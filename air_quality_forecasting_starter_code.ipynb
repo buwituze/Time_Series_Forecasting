{
  "cells": [
    {
      "cell_type": "markdown",
      "metadata": {
        "id": "view-in-github",
        "colab_type": "text"
      },
      "source": [
        "<a href=\"https://colab.research.google.com/github/buwituze/Time_Series_Forecasting/blob/main/air_quality_forecasting_starter_code.ipynb\" target=\"_parent\"><img src=\"https://colab.research.google.com/assets/colab-badge.svg\" alt=\"Open In Colab\"/></a>"
      ]
    },
    {
      "cell_type": "markdown",
      "metadata": {
        "id": "iTsEYdtov6tp"
      },
      "source": [
        "# Beijing Air Quality Forecasting Starter Notebook"
      ]
    },
    {
      "cell_type": "code",
      "execution_count": null,
      "metadata": {
        "id": "nWkSHhqXrCqF"
      },
      "outputs": [],
      "source": [
        "# Import necessary libraries\n",
        "import pandas as pd\n",
        "import numpy as np\n",
        "import matplotlib.pyplot as plt\n",
        "from tensorflow.keras.models import Sequential\n",
        "from tensorflow.keras.layers import LSTM, Dense\n",
        "import tensorflow as tf\n",
        "import seaborn as sns\n",
        "from sklearn.preprocessing import StandardScaler\n",
        "import numpy as np"
      ]
    },
    {
      "cell_type": "code",
      "execution_count": null,
      "metadata": {
        "colab": {
          "base_uri": "https://localhost:8080/"
        },
        "id": "y_C4HV99rHd5",
        "outputId": "3d8c3333-056b-425f-8313-154f7cb5431a"
      },
      "outputs": [
        {
          "output_type": "stream",
          "name": "stdout",
          "text": [
            "Drive already mounted at /content/drive; to attempt to forcibly remount, call drive.mount(\"/content/drive\", force_remount=True).\n"
          ]
        }
      ],
      "source": [
        "# Mount Google Drive to access datasets\n",
        "from google.colab import drive\n",
        "drive.mount('/content/drive')\n"
      ]
    },
    {
      "cell_type": "code",
      "execution_count": null,
      "metadata": {
        "id": "gxW-6b_jrLAL"
      },
      "outputs": [],
      "source": [
        "# Load data\n",
        "\n",
        "train = pd.read_csv('/content/drive/MyDrive/Kaggle_competition_ML/air_quality_forcasting/train.csv')\n",
        "test = pd.read_csv('/content/drive/MyDrive/Kaggle_competition_ML/air_quality_forcasting/test.csv')\n",
        "sample_submision = pd.read_csv('/content/drive/MyDrive/Kaggle_competition_ML/air_quality_forcasting/sample_submission .csv')\n"
      ]
    },
    {
      "cell_type": "markdown",
      "metadata": {
        "id": "cRse3uqRrft5"
      },
      "source": [
        "# Explore the training data\n",
        "\n",
        "In this sections explore your dataset with appropiate statistics and visualisations to understand your better. Ensure that you explain output of every code cell and what it entails."
      ]
    },
    {
      "cell_type": "code",
      "execution_count": null,
      "metadata": {
        "colab": {
          "base_uri": "https://localhost:8080/"
        },
        "id": "3R74CEBFrYok",
        "outputId": "fa8f3ff1-51a4-481d-c3b6-a49e3252a4b6"
      },
      "outputs": [
        {
          "output_type": "stream",
          "name": "stdout",
          "text": [
            "Training Data Overview:\n",
            "Dataset Shape (30676, 12)\n",
            "\n",
            "Column Info:\n",
            "Index(['No', 'DEWP', 'TEMP', 'PRES', 'Iws', 'Is', 'Ir', 'datetime', 'cbwd_NW',\n",
            "       'cbwd_SE', 'cbwd_cv', 'pm2.5'],\n",
            "      dtype='object')\n",
            "No            int64\n",
            "DEWP        float64\n",
            "TEMP        float64\n",
            "PRES        float64\n",
            "Iws         float64\n",
            "Is          float64\n",
            "Ir          float64\n",
            "datetime     object\n",
            "cbwd_NW     float64\n",
            "cbwd_SE     float64\n",
            "cbwd_cv     float64\n",
            "pm2.5       float64\n",
            "dtype: object\n",
            "   No      DEWP      TEMP      PRES       Iws        Is        Ir  \\\n",
            "0   1 -1.580878 -1.922250  0.443328 -0.441894 -0.069353 -0.137667   \n",
            "1   2 -1.580878 -2.004228  0.345943 -0.379306 -0.069353 -0.137667   \n",
            "2   3 -1.580878 -1.922250  0.248559 -0.343514 -0.069353 -0.137667   \n",
            "3   4 -1.580878 -2.168183  0.248559 -0.280926 -0.069353 -0.137667   \n",
            "4   5 -1.511594 -2.004228  0.151174 -0.218339 -0.069353 -0.137667   \n",
            "\n",
            "              datetime   cbwd_NW   cbwd_SE   cbwd_cv  pm2.5  \n",
            "0  2010-01-01 00:00:00  1.448138 -0.732019 -0.522096    NaN  \n",
            "1  2010-01-01 01:00:00  1.448138 -0.732019 -0.522096    NaN  \n",
            "2  2010-01-01 02:00:00  1.448138 -0.732019 -0.522096    NaN  \n",
            "3  2010-01-01 03:00:00  1.448138 -0.732019 -0.522096    NaN  \n",
            "4  2010-01-01 04:00:00  1.448138 -0.732019 -0.522096    NaN  \n",
            "\n",
            "Missing Values:\n",
            "pm2.5    1921\n",
            "dtype: int64\n",
            "\n",
            "PM2.5 Statistics:\n",
            "Mean: 100.79\n",
            "Std: 93.14\n",
            "Min: 0.00\n",
            "Max: 994.00\n"
          ]
        }
      ],
      "source": [
        "print(\"Training Data Overview:\")\n",
        "\n",
        "print(\"Dataset Shape\", train.shape)\n",
        "print(\"\\nColumn Info:\")\n",
        "print(train.columns)\n",
        "print(train.dtypes)\n",
        "print(train.head())\n",
        "\n",
        "missing_data = train.isnull().sum()\n",
        "print(f\"\\nMissing Values:\\n{missing_data[missing_data > 0]}\")\n",
        "\n",
        "print(f\"\\nPM2.5 Statistics:\")\n",
        "print(f\"Mean: {train['pm2.5'].mean():.2f}\")\n",
        "print(f\"Std: {train['pm2.5'].std():.2f}\")\n",
        "print(f\"Min: {train['pm2.5'].min():.2f}\")\n",
        "print(f\"Max: {train['pm2.5'].max():.2f}\")"
      ]
    },
    {
      "cell_type": "code",
      "execution_count": null,
      "metadata": {
        "id": "-om6hH_RtG8Z"
      },
      "outputs": [],
      "source": [
        "# Convert datetime and set index\n",
        "train['datetime'] = pd.to_datetime(train['datetime'])\n",
        "test['datetime'] = pd.to_datetime(test['datetime'])\n",
        "\n",
        "train.set_index('datetime', inplace=True)\n",
        "test.set_index('datetime', inplace=True)\n"
      ]
    },
    {
      "cell_type": "markdown",
      "metadata": {
        "id": "ABAqt0Jztd5s"
      },
      "source": [
        "# Handle missing values\n",
        "\n",
        "\n",
        "- Check the dataset for missing values and decide how to handle them.\n",
        "- In this example, missing values are filled with the mean. You can experiment with other strategies."
      ]
    },
    {
      "cell_type": "code",
      "execution_count": null,
      "metadata": {
        "id": "u2n29Ge1tami",
        "colab": {
          "base_uri": "https://localhost:8080/"
        },
        "outputId": "8746df3f-4acb-44c2-8f63-83932997d591"
      },
      "outputs": [
        {
          "output_type": "stream",
          "name": "stdout",
          "text": [
            "Training features shape: (30676, 13)\n",
            "Training target shape: (30676,)\n",
            "Test features shape: (13148, 13)\n"
          ]
        },
        {
          "output_type": "stream",
          "name": "stderr",
          "text": [
            "/tmp/ipython-input-1928961410.py:2: FutureWarning: DataFrame.fillna with 'method' is deprecated and will raise in a future version. Use obj.ffill() or obj.bfill() instead.\n",
            "  train = train.fillna(method='ffill').fillna(train.mean())\n",
            "/tmp/ipython-input-1928961410.py:3: FutureWarning: DataFrame.fillna with 'method' is deprecated and will raise in a future version. Use obj.ffill() or obj.bfill() instead.\n",
            "  test = test.fillna(method='ffill').fillna(test.mean())\n"
          ]
        }
      ],
      "source": [
        "# Using forward filling to fill missing values\n",
        "train = train.fillna(method='ffill').fillna(train.mean())\n",
        "test = test.fillna(method='ffill').fillna(test.mean())\n",
        "\n",
        "# Feature Engineering: Create time-based features\n",
        "def create_time_features(df):\n",
        "    df['hour'] = df.index.hour\n",
        "    df['day_of_week'] = df.index.dayofweek\n",
        "    df['month'] = df.index.month\n",
        "    df['season'] = df['month'].apply(lambda x: (x%12 + 3)//3)\n",
        "    return df\n",
        "\n",
        "# Apply to both datasets\n",
        "train = create_time_features(train)\n",
        "test = create_time_features(test)\n",
        "\n",
        "# Separate features and target\n",
        "feature_cols = ['DEWP', 'TEMP', 'PRES', 'Iws', 'Is', 'Ir', 'cbwd_NW', 'cbwd_SE', 'cbwd_cv',\n",
        "                'hour', 'day_of_week', 'month', 'season']\n",
        "X_train = train[feature_cols]\n",
        "y_train = train['pm2.5']\n",
        "X_test = test[feature_cols]\n",
        "\n",
        "# Scale features\n",
        "scaler = StandardScaler()\n",
        "X_train_scaled = scaler.fit_transform(X_train)\n",
        "X_test_scaled = scaler.transform(X_test)\n",
        "\n",
        "print(f\"Training features shape: {X_train_scaled.shape}\")\n",
        "print(f\"Training target shape: {y_train.shape}\")\n",
        "print(f\"Test features shape: {X_test_scaled.shape}\")"
      ]
    },
    {
      "cell_type": "markdown",
      "metadata": {
        "id": "YKndkdRuty1C"
      },
      "source": [
        "# Separate features and target\n",
        "\n",
        "- Feel free to trop any non-essential columns like that you think might not contribute to modeling."
      ]
    },
    {
      "cell_type": "code",
      "source": [
        "# Create sequences for LSTM\n",
        "def create_sequences(X, y, sequence_length=24):\n",
        "    \"\"\"Creating sequences that use 24 hours to predict next hour\"\"\"\n",
        "    X_seq, y_seq = [], []\n",
        "\n",
        "    for i in range(sequence_length, len(X)):\n",
        "        X_seq.append(X[i-sequence_length:i])\n",
        "        y_seq.append(y.iloc[i])\n",
        "\n",
        "    return np.array(X_seq), np.array(y_seq)\n",
        "\n",
        "def create_test_sequences(X, sequence_length=24):\n",
        "    \"\"\"sequences for test data\"\"\"\n",
        "    X_seq = []\n",
        "\n",
        "    for i in range(sequence_length, len(X)):\n",
        "        X_seq.append(X[i-sequence_length:i])\n",
        "\n",
        "    return np.array(X_seq)\n",
        "\n",
        "sequence_length = 24\n",
        "X_train_seq, y_train_seq = create_sequences(X_train_scaled, y_train, sequence_length)\n",
        "X_test_seq = create_test_sequences(X_test_scaled, sequence_length)\n",
        "\n",
        "print(f\"Training sequences shape: {X_train_seq.shape}\")\n",
        "print(f\"Training targets shape: {y_train_seq.shape}\")\n",
        "print(f\"Test sequences shape: {X_test_seq.shape}\")\n",
        "\n",
        "split_idx = int(0.8 * len(X_train_seq))\n",
        "X_train_final = X_train_seq[:split_idx]\n",
        "X_val = X_train_seq[split_idx:]\n",
        "y_train_final = y_train_seq[:split_idx]\n",
        "y_val = y_train_seq[split_idx:]\n",
        "\n",
        "print(f\"\\nAfter train-val split:\")\n",
        "print(f\"Train: {X_train_final.shape}, Val: {X_val.shape}\")"
      ],
      "metadata": {
        "colab": {
          "base_uri": "https://localhost:8080/"
        },
        "id": "L_BU8kk1hLrU",
        "outputId": "df72cde6-5d9b-4c90-deda-dda9e01e90ec"
      },
      "execution_count": null,
      "outputs": [
        {
          "output_type": "stream",
          "name": "stdout",
          "text": [
            "Training sequences shape: (30652, 24, 13)\n",
            "Training targets shape: (30652,)\n",
            "Test sequences shape: (13124, 24, 13)\n",
            "\n",
            "After train-val split:\n",
            "Train: (24521, 24, 13), Val: (6131, 24, 13)\n"
          ]
        }
      ]
    },
    {
      "cell_type": "markdown",
      "metadata": {
        "id": "d488782wuR2W"
      },
      "source": [
        "# Build model\n",
        "\n",
        "Below is a simple LSTM model. Your task is to experiment with different parameters like, numbers of layers, units, activation functions, and optimizers, etc to get the best performing model. Experiment with other optimizers (e.g., SGD) or hyperparameters to improve performance."
      ]
    },
    {
      "cell_type": "code",
      "execution_count": null,
      "metadata": {
        "colab": {
          "base_uri": "https://localhost:8080/",
          "height": 397
        },
        "id": "mfx2LPHxq5fG",
        "outputId": "5cec20f6-8618-4056-ac59-1806acad49c4"
      },
      "outputs": [
        {
          "output_type": "stream",
          "name": "stderr",
          "text": [
            "/usr/local/lib/python3.12/dist-packages/keras/src/layers/rnn/rnn.py:199: UserWarning: Do not pass an `input_shape`/`input_dim` argument to a layer. When using Sequential models, prefer using an `Input(shape)` object as the first layer in the model instead.\n",
            "  super().__init__(**kwargs)\n"
          ]
        },
        {
          "output_type": "display_data",
          "data": {
            "text/plain": [
              "\u001b[1mModel: \"sequential_4\"\u001b[0m\n"
            ],
            "text/html": [
              "<pre style=\"white-space:pre;overflow-x:auto;line-height:normal;font-family:Menlo,'DejaVu Sans Mono',consolas,'Courier New',monospace\"><span style=\"font-weight: bold\">Model: \"sequential_4\"</span>\n",
              "</pre>\n"
            ]
          },
          "metadata": {}
        },
        {
          "output_type": "display_data",
          "data": {
            "text/plain": [
              "┏━━━━━━━━━━━━━━━━━━━━━━━━━━━━━━━━━┳━━━━━━━━━━━━━━━━━━━━━━━━┳━━━━━━━━━━━━━━━┓\n",
              "┃\u001b[1m \u001b[0m\u001b[1mLayer (type)                   \u001b[0m\u001b[1m \u001b[0m┃\u001b[1m \u001b[0m\u001b[1mOutput Shape          \u001b[0m\u001b[1m \u001b[0m┃\u001b[1m \u001b[0m\u001b[1m      Param #\u001b[0m\u001b[1m \u001b[0m┃\n",
              "┡━━━━━━━━━━━━━━━━━━━━━━━━━━━━━━━━━╇━━━━━━━━━━━━━━━━━━━━━━━━╇━━━━━━━━━━━━━━━┩\n",
              "│ lstm_5 (\u001b[38;5;33mLSTM\u001b[0m)                   │ (\u001b[38;5;45mNone\u001b[0m, \u001b[38;5;34m96\u001b[0m)             │        \u001b[38;5;34m42,240\u001b[0m │\n",
              "├─────────────────────────────────┼────────────────────────┼───────────────┤\n",
              "│ batch_normalization_2           │ (\u001b[38;5;45mNone\u001b[0m, \u001b[38;5;34m96\u001b[0m)             │           \u001b[38;5;34m384\u001b[0m │\n",
              "│ (\u001b[38;5;33mBatchNormalization\u001b[0m)            │                        │               │\n",
              "├─────────────────────────────────┼────────────────────────┼───────────────┤\n",
              "│ dropout_7 (\u001b[38;5;33mDropout\u001b[0m)             │ (\u001b[38;5;45mNone\u001b[0m, \u001b[38;5;34m96\u001b[0m)             │             \u001b[38;5;34m0\u001b[0m │\n",
              "├─────────────────────────────────┼────────────────────────┼───────────────┤\n",
              "│ dense_8 (\u001b[38;5;33mDense\u001b[0m)                 │ (\u001b[38;5;45mNone\u001b[0m, \u001b[38;5;34m48\u001b[0m)             │         \u001b[38;5;34m4,656\u001b[0m │\n",
              "├─────────────────────────────────┼────────────────────────┼───────────────┤\n",
              "│ dropout_8 (\u001b[38;5;33mDropout\u001b[0m)             │ (\u001b[38;5;45mNone\u001b[0m, \u001b[38;5;34m48\u001b[0m)             │             \u001b[38;5;34m0\u001b[0m │\n",
              "├─────────────────────────────────┼────────────────────────┼───────────────┤\n",
              "│ dense_9 (\u001b[38;5;33mDense\u001b[0m)                 │ (\u001b[38;5;45mNone\u001b[0m, \u001b[38;5;34m1\u001b[0m)              │            \u001b[38;5;34m49\u001b[0m │\n",
              "└─────────────────────────────────┴────────────────────────┴───────────────┘\n"
            ],
            "text/html": [
              "<pre style=\"white-space:pre;overflow-x:auto;line-height:normal;font-family:Menlo,'DejaVu Sans Mono',consolas,'Courier New',monospace\">┏━━━━━━━━━━━━━━━━━━━━━━━━━━━━━━━━━┳━━━━━━━━━━━━━━━━━━━━━━━━┳━━━━━━━━━━━━━━━┓\n",
              "┃<span style=\"font-weight: bold\"> Layer (type)                    </span>┃<span style=\"font-weight: bold\"> Output Shape           </span>┃<span style=\"font-weight: bold\">       Param # </span>┃\n",
              "┡━━━━━━━━━━━━━━━━━━━━━━━━━━━━━━━━━╇━━━━━━━━━━━━━━━━━━━━━━━━╇━━━━━━━━━━━━━━━┩\n",
              "│ lstm_5 (<span style=\"color: #0087ff; text-decoration-color: #0087ff\">LSTM</span>)                   │ (<span style=\"color: #00d7ff; text-decoration-color: #00d7ff\">None</span>, <span style=\"color: #00af00; text-decoration-color: #00af00\">96</span>)             │        <span style=\"color: #00af00; text-decoration-color: #00af00\">42,240</span> │\n",
              "├─────────────────────────────────┼────────────────────────┼───────────────┤\n",
              "│ batch_normalization_2           │ (<span style=\"color: #00d7ff; text-decoration-color: #00d7ff\">None</span>, <span style=\"color: #00af00; text-decoration-color: #00af00\">96</span>)             │           <span style=\"color: #00af00; text-decoration-color: #00af00\">384</span> │\n",
              "│ (<span style=\"color: #0087ff; text-decoration-color: #0087ff\">BatchNormalization</span>)            │                        │               │\n",
              "├─────────────────────────────────┼────────────────────────┼───────────────┤\n",
              "│ dropout_7 (<span style=\"color: #0087ff; text-decoration-color: #0087ff\">Dropout</span>)             │ (<span style=\"color: #00d7ff; text-decoration-color: #00d7ff\">None</span>, <span style=\"color: #00af00; text-decoration-color: #00af00\">96</span>)             │             <span style=\"color: #00af00; text-decoration-color: #00af00\">0</span> │\n",
              "├─────────────────────────────────┼────────────────────────┼───────────────┤\n",
              "│ dense_8 (<span style=\"color: #0087ff; text-decoration-color: #0087ff\">Dense</span>)                 │ (<span style=\"color: #00d7ff; text-decoration-color: #00d7ff\">None</span>, <span style=\"color: #00af00; text-decoration-color: #00af00\">48</span>)             │         <span style=\"color: #00af00; text-decoration-color: #00af00\">4,656</span> │\n",
              "├─────────────────────────────────┼────────────────────────┼───────────────┤\n",
              "│ dropout_8 (<span style=\"color: #0087ff; text-decoration-color: #0087ff\">Dropout</span>)             │ (<span style=\"color: #00d7ff; text-decoration-color: #00d7ff\">None</span>, <span style=\"color: #00af00; text-decoration-color: #00af00\">48</span>)             │             <span style=\"color: #00af00; text-decoration-color: #00af00\">0</span> │\n",
              "├─────────────────────────────────┼────────────────────────┼───────────────┤\n",
              "│ dense_9 (<span style=\"color: #0087ff; text-decoration-color: #0087ff\">Dense</span>)                 │ (<span style=\"color: #00d7ff; text-decoration-color: #00d7ff\">None</span>, <span style=\"color: #00af00; text-decoration-color: #00af00\">1</span>)              │            <span style=\"color: #00af00; text-decoration-color: #00af00\">49</span> │\n",
              "└─────────────────────────────────┴────────────────────────┴───────────────┘\n",
              "</pre>\n"
            ]
          },
          "metadata": {}
        },
        {
          "output_type": "display_data",
          "data": {
            "text/plain": [
              "\u001b[1m Total params: \u001b[0m\u001b[38;5;34m47,329\u001b[0m (184.88 KB)\n"
            ],
            "text/html": [
              "<pre style=\"white-space:pre;overflow-x:auto;line-height:normal;font-family:Menlo,'DejaVu Sans Mono',consolas,'Courier New',monospace\"><span style=\"font-weight: bold\"> Total params: </span><span style=\"color: #00af00; text-decoration-color: #00af00\">47,329</span> (184.88 KB)\n",
              "</pre>\n"
            ]
          },
          "metadata": {}
        },
        {
          "output_type": "display_data",
          "data": {
            "text/plain": [
              "\u001b[1m Trainable params: \u001b[0m\u001b[38;5;34m47,137\u001b[0m (184.13 KB)\n"
            ],
            "text/html": [
              "<pre style=\"white-space:pre;overflow-x:auto;line-height:normal;font-family:Menlo,'DejaVu Sans Mono',consolas,'Courier New',monospace\"><span style=\"font-weight: bold\"> Trainable params: </span><span style=\"color: #00af00; text-decoration-color: #00af00\">47,137</span> (184.13 KB)\n",
              "</pre>\n"
            ]
          },
          "metadata": {}
        },
        {
          "output_type": "display_data",
          "data": {
            "text/plain": [
              "\u001b[1m Non-trainable params: \u001b[0m\u001b[38;5;34m192\u001b[0m (768.00 B)\n"
            ],
            "text/html": [
              "<pre style=\"white-space:pre;overflow-x:auto;line-height:normal;font-family:Menlo,'DejaVu Sans Mono',consolas,'Courier New',monospace\"><span style=\"font-weight: bold\"> Non-trainable params: </span><span style=\"color: #00af00; text-decoration-color: #00af00\">192</span> (768.00 B)\n",
              "</pre>\n"
            ]
          },
          "metadata": {}
        }
      ],
      "source": [
        "from tensorflow.keras.models import Sequential\n",
        "from tensorflow.keras.layers import LSTM, Dense, Dropout, BatchNormalization\n",
        "from tensorflow.keras.callbacks import EarlyStopping, ReduceLROnPlateau\n",
        "from tensorflow.keras.optimizers import Adam\n",
        "import tensorflow as tf\n",
        "\n",
        "def create_lstm_model(input_shape, config='basic'):\n",
        "    \"\"\"Create different LSTM configs\"\"\"\n",
        "    model = Sequential()\n",
        "\n",
        "    if config == 'basic':\n",
        "        model.add(LSTM(64, activation='tanh', input_shape=input_shape))\n",
        "        model.add(Dropout(0.2))\n",
        "        model.add(Dense(32, activation='relu'))\n",
        "        model.add(Dense(1))\n",
        "\n",
        "    elif config == 'deep':\n",
        "        model.add(LSTM(128, return_sequences=True, activation='tanh', input_shape=input_shape))\n",
        "        model.add(Dropout(0.3))\n",
        "        model.add(LSTM(64, activation='tanh'))\n",
        "        model.add(Dropout(0.2))\n",
        "        model.add(Dense(32, activation='relu'))\n",
        "        model.add(Dense(1))\n",
        "\n",
        "    elif config == 'regularized':\n",
        "        model.add(LSTM(96, activation='tanh', input_shape=input_shape,\n",
        "                      kernel_regularizer=tf.keras.regularizers.l2(0.001)))\n",
        "        model.add(BatchNormalization())\n",
        "        model.add(Dropout(0.3))\n",
        "        model.add(Dense(48, activation='relu'))\n",
        "        model.add(Dropout(0.2))\n",
        "        model.add(Dense(1))\n",
        "\n",
        "    return model\n",
        "\n",
        "# Create and compile the model\n",
        "input_shape = (X_train_final.shape[1], X_train_final.shape[2])\n",
        "model = create_lstm_model(input_shape, config='regularized')\n",
        "\n",
        "optimizer = Adam(learning_rate=0.001, beta_1=0.9, beta_2=0.999)\n",
        "\n",
        "model.compile(\n",
        "    optimizer=optimizer,\n",
        "    loss='mse',\n",
        "    metrics=[tf.keras.metrics.RootMeanSquaredError(name='rmse')]\n",
        ")\n",
        "\n",
        "callbacks = [\n",
        "    EarlyStopping(monitor='val_loss', patience=15, restore_best_weights=True),\n",
        "    ReduceLROnPlateau(monitor='val_loss', factor=0.5, patience=7, min_lr=1e-7)\n",
        "]\n",
        "\n",
        "model.summary()"
      ]
    },
    {
      "cell_type": "code",
      "execution_count": null,
      "metadata": {
        "colab": {
          "base_uri": "https://localhost:8080/"
        },
        "id": "uM0Xuq7XvdTZ",
        "outputId": "468852ba-3e64-4906-b2f8-a721e9ef7dc9"
      },
      "outputs": [
        {
          "output_type": "stream",
          "name": "stdout",
          "text": [
            "Training advanced LSTM model...\n",
            "Epoch 1/100\n",
            "\u001b[1m384/384\u001b[0m \u001b[32m━━━━━━━━━━━━━━━━━━━━\u001b[0m\u001b[37m\u001b[0m \u001b[1m15s\u001b[0m 31ms/step - loss: 10710.5615 - rmse: 102.5597 - val_loss: 8379.0439 - val_rmse: 91.5369 - learning_rate: 0.0010\n",
            "Epoch 2/100\n",
            "\u001b[1m384/384\u001b[0m \u001b[32m━━━━━━━━━━━━━━━━━━━━\u001b[0m\u001b[37m\u001b[0m \u001b[1m21s\u001b[0m 32ms/step - loss: 4729.4561 - rmse: 68.7641 - val_loss: 7399.8408 - val_rmse: 86.0221 - learning_rate: 0.0010\n",
            "Epoch 3/100\n",
            "\u001b[1m384/384\u001b[0m \u001b[32m━━━━━━━━━━━━━━━━━━━━\u001b[0m\u001b[37m\u001b[0m \u001b[1m21s\u001b[0m 34ms/step - loss: 4863.3291 - rmse: 69.6423 - val_loss: 6444.3623 - val_rmse: 80.2765 - learning_rate: 0.0010\n",
            "Epoch 4/100\n",
            "\u001b[1m384/384\u001b[0m \u001b[32m━━━━━━━━━━━━━━━━━━━━\u001b[0m\u001b[37m\u001b[0m \u001b[1m20s\u001b[0m 33ms/step - loss: 4042.9929 - rmse: 63.5706 - val_loss: 6753.4014 - val_rmse: 82.1788 - learning_rate: 0.0010\n",
            "Epoch 5/100\n",
            "\u001b[1m384/384\u001b[0m \u001b[32m━━━━━━━━━━━━━━━━━━━━\u001b[0m\u001b[37m\u001b[0m \u001b[1m20s\u001b[0m 33ms/step - loss: 3629.1375 - rmse: 60.2231 - val_loss: 7564.4946 - val_rmse: 86.9738 - learning_rate: 0.0010\n",
            "Epoch 6/100\n",
            "\u001b[1m384/384\u001b[0m \u001b[32m━━━━━━━━━━━━━━━━━━━━\u001b[0m\u001b[37m\u001b[0m \u001b[1m21s\u001b[0m 33ms/step - loss: 3449.4207 - rmse: 58.7232 - val_loss: 7082.1953 - val_rmse: 84.1555 - learning_rate: 0.0010\n",
            "Epoch 7/100\n",
            "\u001b[1m384/384\u001b[0m \u001b[32m━━━━━━━━━━━━━━━━━━━━\u001b[0m\u001b[37m\u001b[0m \u001b[1m20s\u001b[0m 32ms/step - loss: 3229.1064 - rmse: 56.8194 - val_loss: 6915.6221 - val_rmse: 83.1599 - learning_rate: 0.0010\n",
            "Epoch 8/100\n",
            "\u001b[1m384/384\u001b[0m \u001b[32m━━━━━━━━━━━━━━━━━━━━\u001b[0m\u001b[37m\u001b[0m \u001b[1m21s\u001b[0m 33ms/step - loss: 2882.2244 - rmse: 53.6781 - val_loss: 6951.1436 - val_rmse: 83.3732 - learning_rate: 0.0010\n",
            "Epoch 9/100\n",
            "\u001b[1m384/384\u001b[0m \u001b[32m━━━━━━━━━━━━━━━━━━━━\u001b[0m\u001b[37m\u001b[0m \u001b[1m20s\u001b[0m 32ms/step - loss: 2686.0862 - rmse: 51.8226 - val_loss: 7025.4077 - val_rmse: 83.8173 - learning_rate: 0.0010\n",
            "Epoch 10/100\n",
            "\u001b[1m384/384\u001b[0m \u001b[32m━━━━━━━━━━━━━━━━━━━━\u001b[0m\u001b[37m\u001b[0m \u001b[1m13s\u001b[0m 35ms/step - loss: 2568.3892 - rmse: 50.6558 - val_loss: 7401.2407 - val_rmse: 86.0300 - learning_rate: 0.0010\n",
            "Epoch 11/100\n",
            "\u001b[1m384/384\u001b[0m \u001b[32m━━━━━━━━━━━━━━━━━━━━\u001b[0m\u001b[37m\u001b[0m \u001b[1m13s\u001b[0m 34ms/step - loss: 2308.7949 - rmse: 48.0403 - val_loss: 7259.5264 - val_rmse: 85.2024 - learning_rate: 5.0000e-04\n",
            "Epoch 12/100\n",
            "\u001b[1m384/384\u001b[0m \u001b[32m━━━━━━━━━━━━━━━━━━━━\u001b[0m\u001b[37m\u001b[0m \u001b[1m11s\u001b[0m 30ms/step - loss: 2176.3335 - rmse: 46.6485 - val_loss: 7721.5005 - val_rmse: 87.8717 - learning_rate: 5.0000e-04\n",
            "Epoch 13/100\n",
            "\u001b[1m384/384\u001b[0m \u001b[32m━━━━━━━━━━━━━━━━━━━━\u001b[0m\u001b[37m\u001b[0m \u001b[1m22s\u001b[0m 33ms/step - loss: 2232.6704 - rmse: 47.2409 - val_loss: 7885.1201 - val_rmse: 88.7978 - learning_rate: 5.0000e-04\n",
            "Epoch 14/100\n",
            "\u001b[1m384/384\u001b[0m \u001b[32m━━━━━━━━━━━━━━━━━━━━\u001b[0m\u001b[37m\u001b[0m \u001b[1m13s\u001b[0m 33ms/step - loss: 2203.7576 - rmse: 46.9351 - val_loss: 8017.1548 - val_rmse: 89.5381 - learning_rate: 5.0000e-04\n",
            "Epoch 15/100\n",
            "\u001b[1m384/384\u001b[0m \u001b[32m━━━━━━━━━━━━━━━━━━━━\u001b[0m\u001b[37m\u001b[0m \u001b[1m20s\u001b[0m 33ms/step - loss: 2004.4960 - rmse: 44.7552 - val_loss: 7816.2827 - val_rmse: 88.4093 - learning_rate: 5.0000e-04\n",
            "Epoch 16/100\n",
            "\u001b[1m384/384\u001b[0m \u001b[32m━━━━━━━━━━━━━━━━━━━━\u001b[0m\u001b[37m\u001b[0m \u001b[1m20s\u001b[0m 32ms/step - loss: 1942.6895 - rmse: 44.0671 - val_loss: 7466.0825 - val_rmse: 86.4060 - learning_rate: 5.0000e-04\n",
            "Epoch 17/100\n",
            "\u001b[1m384/384\u001b[0m \u001b[32m━━━━━━━━━━━━━━━━━━━━\u001b[0m\u001b[37m\u001b[0m \u001b[1m22s\u001b[0m 36ms/step - loss: 1876.6373 - rmse: 43.3153 - val_loss: 7700.8711 - val_rmse: 87.7541 - learning_rate: 5.0000e-04\n",
            "Epoch 18/100\n",
            "\u001b[1m384/384\u001b[0m \u001b[32m━━━━━━━━━━━━━━━━━━━━\u001b[0m\u001b[37m\u001b[0m \u001b[1m14s\u001b[0m 36ms/step - loss: 1811.3593 - rmse: 42.5563 - val_loss: 7744.3999 - val_rmse: 88.0018 - learning_rate: 2.5000e-04\n",
            "\n",
            "Training Results:\n",
            "Final Training RMSE: 42.51\n",
            "Final Validation RMSE: 88.00\n",
            "Training Time: 327.9s\n",
            "Epochs Trained: 18\n"
          ]
        }
      ],
      "source": [
        "# Train the model with experiment tracking\n",
        "import time\n",
        "\n",
        "def train_and_evaluate(model, X_train, y_train, X_val, y_val, callbacks, epochs=100, batch_size=64):\n",
        "    start_time = time.time()\n",
        "\n",
        "    history = model.fit(\n",
        "        X_train, y_train,\n",
        "        validation_data=(X_val, y_val),\n",
        "        epochs=epochs,\n",
        "        batch_size=batch_size,\n",
        "        callbacks=callbacks,\n",
        "        verbose=1\n",
        "    )\n",
        "\n",
        "    train_time = time.time() - start_time\n",
        "\n",
        "    train_loss = history.history['loss'][-1]\n",
        "    val_loss = history.history['val_loss'][-1]\n",
        "    train_rmse = history.history['rmse'][-1]\n",
        "    val_rmse = history.history['val_rmse'][-1]\n",
        "\n",
        "    return {\n",
        "        'train_loss': train_loss,\n",
        "        'val_loss': val_loss,\n",
        "        'train_rmse': train_rmse,\n",
        "        'val_rmse': val_rmse,\n",
        "        'training_time': train_time,\n",
        "        'epochs_trained': len(history.history['loss']),\n",
        "        'history': history\n",
        "    }\n",
        "\n",
        "# Train the model\n",
        "print(\"Training advanced LSTM model...\")\n",
        "results = train_and_evaluate(\n",
        "    model, X_train_final, y_train_final, X_val, y_val,\n",
        "    callbacks, epochs=100, batch_size=64\n",
        ")\n",
        "\n",
        "print(f\"\\nTraining Results:\")\n",
        "print(f\"Final Training RMSE: {results['train_rmse']:.2f}\")\n",
        "print(f\"Final Validation RMSE: {results['val_rmse']:.2f}\")\n",
        "print(f\"Training Time: {results['training_time']:.1f}s\")\n",
        "print(f\"Epochs Trained: {results['epochs_trained']}\")"
      ]
    },
    {
      "cell_type": "markdown",
      "source": [
        "### Plots of the model's performance"
      ],
      "metadata": {
        "id": "UdXdiytK1FNV"
      }
    },
    {
      "cell_type": "code",
      "execution_count": null,
      "metadata": {
        "id": "NKxlO7SmxFpU"
      },
      "outputs": [],
      "source": [
        "# # Calculate training loss\n",
        "# train_predictions = model.predict(X_train)\n",
        "# train_loss = np.mean((y_train - train_predictions.flatten())**2)\n",
        "\n",
        "# # Plot training loss\n",
        "# plt.figure(figsize=(8, 6))\n",
        "# plt.plot(history.history['loss'], label='Training Loss')  # Training loss during epochs\n",
        "# plt.axhline(y=train_loss, color='blue', linestyle='--', label='Final rain Loss')  # Final training loss\n",
        "# plt.title('Loss on Training Data')\n",
        "# plt.xlabel('Epochs')\n",
        "# plt.ylabel('Loss (MSE)')\n",
        "# plt.legend()\n",
        "# plt.show()\n",
        "\n",
        "# print(f\"Final Training Loss (MSE): {train_loss}\")\n",
        "\n"
      ]
    },
    {
      "cell_type": "code",
      "source": [
        "fig, axes = plt.subplots(1, 2, figsize=(15, 5))\n",
        "\n",
        "# Loss curves\n",
        "axes[0].plot(results['history'].history['loss'], label='Training Loss')\n",
        "axes[0].plot(results['history'].history['val_loss'], label='Validation Loss')\n",
        "axes[0].set_title('Model Loss Over Epochs')\n",
        "axes[0].set_xlabel('Epoch')\n",
        "axes[0].set_ylabel('MSE Loss')\n",
        "axes[0].legend()\n",
        "axes[0].grid(True, alpha=0.3)\n",
        "\n",
        "# RMSE curves\n",
        "axes[1].plot(results['history'].history['rmse'], label='Training RMSE')\n",
        "axes[1].plot(results['history'].history['val_rmse'], label='Validation RMSE')\n",
        "axes[1].set_title('Model RMSE Over Epochs')\n",
        "axes[1].set_xlabel('Epoch')\n",
        "axes[1].set_ylabel('RMSE')\n",
        "axes[1].legend()\n",
        "axes[1].grid(True, alpha=0.3)\n",
        "\n",
        "plt.tight_layout()\n",
        "plt.show()\n",
        "\n",
        "# Validation predictions analysis\n",
        "val_pred = model.predict(X_val)\n",
        "val_rmse = np.sqrt(np.mean((y_val - val_pred.flatten())**2))\n",
        "print(f\"Final Validation RMSE: {val_rmse:.2f}\")\n",
        "\n",
        "# Check if we're meeting the target\n",
        "target_rmse = 4000\n",
        "print(f\"Target RMSE: {target_rmse}\")\n",
        "print(f\"Current RMSE: {val_rmse:.2f}\")\n",
        "print(f\"Meeting target: {'YES' if val_rmse < target_rmse else 'NO'}\")"
      ],
      "metadata": {
        "colab": {
          "base_uri": "https://localhost:8080/",
          "height": 594
        },
        "id": "VUQGju_JiN-o",
        "outputId": "ba2b39c2-f391-4cd4-aefd-15b27467e2b5"
      },
      "execution_count": null,
      "outputs": [
        {
          "output_type": "display_data",
          "data": {
            "text/plain": [
              "<Figure size 1500x500 with 2 Axes>"
            ],
            "image/png": "[encoded data removed]"
          },
          "metadata": {}
        },
        {
          "output_type": "stream",
          "name": "stdout",
          "text": [
            "\u001b[1m192/192\u001b[0m \u001b[32m━━━━━━━━━━━━━━━━━━━━\u001b[0m\u001b[37m\u001b[0m \u001b[1m1s\u001b[0m 6ms/step\n",
            "Final Validation RMSE: 80.28\n",
            "Target RMSE: 4000\n",
            "Current RMSE: 80.28\n",
            "Meeting target: YES\n"
          ]
        }
      ]
    },
    {
      "cell_type": "code",
      "source": [
        "# Experimenting\n",
        "def run_quick_experiments():\n",
        "    \"\"\"Run multiple quick experiments with different configurations\"\"\"\n",
        "    experiments = []\n",
        "\n",
        "    configs = [\n",
        "        {'name': 'Basic LSTM', 'config': 'basic', 'lr': 0.001, 'batch': 64, 'dropout': 0.2},\n",
        "        {'name': 'Deep LSTM', 'config': 'deep', 'lr': 0.001, 'batch': 32, 'dropout': 0.3},\n",
        "        {'name': 'Regularized LSTM', 'config': 'regularized', 'lr': 0.0005, 'batch': 64, 'dropout': 0.3}\n",
        "    ]\n",
        "\n",
        "    for exp in configs:\n",
        "        print(f\"\\nRunning {exp['name']}...\")\n",
        "\n",
        "        # Create model\n",
        "        temp_model = create_lstm_model(input_shape, exp['config'])\n",
        "        temp_model.compile(\n",
        "            optimizer=Adam(learning_rate=exp['lr']),\n",
        "            loss='mse',\n",
        "            metrics=[tf.keras.metrics.RootMeanSquaredError(name='rmse')]\n",
        "        )\n",
        "\n",
        "\n",
        "        temp_history = temp_model.fit(\n",
        "            X_train_final, y_train_final,\n",
        "            validation_data=(X_val, y_val),\n",
        "            epochs=20,\n",
        "            batch_size=exp['batch'],\n",
        "            verbose=0\n",
        "        )\n",
        "\n",
        "        final_val_rmse = temp_history.history['val_rmse'][-1]\n",
        "\n",
        "        experiments.append({\n",
        "            'Experiment': exp['name'],\n",
        "            'Architecture': exp['config'],\n",
        "            'Learning_Rate': exp['lr'],\n",
        "            'Batch_Size': exp['batch'],\n",
        "            'Dropout': exp['dropout'],\n",
        "            'Sequence_Length': 24,\n",
        "            'Epochs': 20,\n",
        "            'Val_RMSE': round(final_val_rmse, 2)\n",
        "        })\n",
        "\n",
        "    return experiments\n",
        "\n",
        "# run experiments and create table of the experiements\n",
        "experiment_results = run_quick_experiments()\n",
        "experiment_df = pd.DataFrame(experiment_results)\n",
        "\n",
        "print(\"\\nExperiment Results Table:\")\n",
        "print(experiment_df.to_string(index=False))\n",
        "\n",
        "experiment_df.to_csv('experiment_results.csv', index=False)\n",
        "print(\"\\nExperiment table saved as 'experiment_results.csv'\")"
      ],
      "metadata": {
        "colab": {
          "base_uri": "https://localhost:8080/"
        },
        "id": "5xc2_04OiVMy",
        "outputId": "2517f7ea-609b-4b2c-92da-bd7c76153e86"
      },
      "execution_count": null,
      "outputs": [
        {
          "output_type": "stream",
          "name": "stdout",
          "text": [
            "\n",
            "Running Basic LSTM...\n",
            "\n",
            "Running Deep LSTM...\n",
            "\n",
            "Running Regularized LSTM...\n",
            "\n",
            "Experiment Results Table:\n",
            "      Experiment Architecture  Learning_Rate  Batch_Size  Dropout  Sequence_Length  Epochs  Val_RMSE\n",
            "      Basic LSTM        basic         0.0010          64      0.2               24      20     82.60\n",
            "       Deep LSTM         deep         0.0010          32      0.3               24      20     94.37\n",
            "Regularized LSTM  regularized         0.0005          64      0.3               24      20     86.40\n",
            "\n",
            "Experiment table saved as 'experiment_results.csv'\n"
          ]
        }
      ]
    },
    {
      "cell_type": "markdown",
      "source": [
        "### Generate final predictions"
      ],
      "metadata": {
        "id": "Ny8_bkYt1f2u"
      }
    },
    {
      "cell_type": "code",
      "source": [
        "print(\"Generating final predictions...\")\n",
        "test_predictions = model.predict(X_test_seq, verbose=0)\n",
        "\n",
        "test_predictions = np.maximum(test_predictions.flatten(), 0)\n",
        "test_predictions = np.round(test_predictions, 2)\n",
        "\n",
        "test_dates = test.index[sequence_length:].strftime('%Y-%m-%d %-H:%M:%S')\n",
        "\n",
        "submission = pd.DataFrame({\n",
        "    'datetime': test_dates,\n",
        "    'pm2.5': test_predictions\n",
        "})\n",
        "\n",
        "submission = submission.sort_values('datetime')\n",
        "\n",
        "print(f\"Submission shape: {submission.shape}\")\n",
        "print(f\"Sample predictions:\")\n",
        "print(submission.head())\n",
        "\n",
        "submission.to_csv('/content/drive/MyDrive/Kaggle_competition_ML/air_quality_forcasting/final_submission.csv', index=False)\n",
        "print(\"\\nSubmission saved as 'final_submission.csv'\")\n",
        "\n",
        "print(f\"\\nFinal Model Summary:\")\n",
        "print(f\"Architecture: Regularized LSTM with BatchNorm\")\n",
        "print(f\"Sequence Length: 24 hours\")\n",
        "print(f\"Features: {X_train_final.shape[2]} (including engineered time features)\")\n",
        "print(f\"Final Validation RMSE: {results['val_rmse']:.2f}\")\n",
        "print(f\"Target Achievement: {'SUCCESS' if results['val_rmse'] < 4000 else 'NEEDS IMPROVEMENT'}\")"
      ],
      "metadata": {
        "colab": {
          "base_uri": "https://localhost:8080/"
        },
        "id": "1IFMwqLIiflo",
        "outputId": "a647dd38-517c-4172-bebc-54f19855c4b8"
      },
      "execution_count": null,
      "outputs": [
        {
          "output_type": "stream",
          "name": "stdout",
          "text": [
            "Generating final predictions...\n",
            "Submission shape: (13124, 2)\n",
            "Sample predictions:\n",
            "               datetime  pm2.5\n",
            "6   2013-07-03 10:00:00   7.80\n",
            "7   2013-07-03 11:00:00   9.13\n",
            "8   2013-07-03 12:00:00  10.26\n",
            "9   2013-07-03 13:00:00   2.28\n",
            "10  2013-07-03 14:00:00   1.01\n",
            "\n",
            "Submission saved as 'final_submission.csv'\n",
            "\n",
            "Final Model Summary:\n",
            "Architecture: Regularized LSTM with BatchNorm\n",
            "Sequence Length: 24 hours\n",
            "Features: 13 (including engineered time features)\n",
            "Final Validation RMSE: 88.00\n",
            "Target Achievement: SUCCESS\n"
          ]
        }
      ]
    }
  ],
  "metadata": {
    "colab": {
      "provenance": [],
      "include_colab_link": true
    },
    "kernelspec": {
      "display_name": "Python 3",
      "name": "python3"
    },
    "language_info": {
      "name": "python"
    }
  },
  "nbformat": 4,
  "nbformat_minor": 0
}